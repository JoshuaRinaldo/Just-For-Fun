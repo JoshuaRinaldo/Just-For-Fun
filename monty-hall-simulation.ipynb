{
 "cells": [
  {
   "cell_type": "markdown",
   "metadata": {},
   "source": [
    "## I found the Monty Hall problem to be unintuitive, and the mathematical proofs were not satisfying to me (though I did believe them). So I decided to prove it for myself using Monte-Carlo techniques."
   ]
  },
  {
   "cell_type": "code",
   "execution_count": 2,
   "metadata": {},
   "outputs": [],
   "source": [
    "import numpy as np\n",
    "import matplotlib.pyplot as plt"
   ]
  },
  {
   "cell_type": "code",
   "execution_count": 3,
   "metadata": {},
   "outputs": [],
   "source": [
    "#we will make one full function which takes n doors to prove this problem for a general\n",
    "#number of doors. We will also take the number of simulations. Note that it takes\n",
    "#more simulations to find the result when you have more doors.\n",
    "#for a most accurate result, select an even number of simulations\n",
    "def montyhall(ndoors,nsimulations):\n",
    "    #generates doors\n",
    "    successes_not_switching = 0\n",
    "    successes_switching = 0\n",
    "    for n in range(nsimulations):\n",
    "        doors = np.arange(ndoors)\n",
    "        #selects doors\n",
    "        correct_door = np.random.choice(doors)\n",
    "        door_choice = np.random.choice(doors)\n",
    "        #deletes choice door before selecting which door to remove\n",
    "        doors_to_remove_from = np.delete(doors,[door_choice,correct_door])\n",
    "        #selects a random door to remove\n",
    "        removed_door = np.random.choice(doors_to_remove_from)\n",
    "        removed_door_index = np.where(doors==removed_door)\n",
    "        #removes that door\n",
    "        doors = np.delete(doors,removed_door_index)\n",
    "        \n",
    "        #half of the time we decide to swap doors\n",
    "        if n%2 == 0:\n",
    "            #makes new doors to select from\n",
    "            current_choice_index = np.where(doors==door_choice)\n",
    "            new_doors = np.delete(doors,current_choice_index)\n",
    "            \n",
    "            #selects the new door\n",
    "            new_door = np.random.choice(new_doors)\n",
    "            #checks correctness\n",
    "            if new_door == correct_door:\n",
    "                successes_switching+=1\n",
    "        #case where the player does not change their choice\n",
    "        else:\n",
    "            if door_choice == correct_door:\n",
    "                successes_not_switching+=1\n",
    "                \n",
    "    switching_success_rate = successes_switching/nsimulations*2\n",
    "    not_switching_success_rate = successes_not_switching/nsimulations*2\n",
    "    return not_switching_success_rate,switching_success_rate"
   ]
  },
  {
   "cell_type": "code",
   "execution_count": 10,
   "metadata": {},
   "outputs": [],
   "source": [
    "not_switching, switching = montyhall(3,10000)"
   ]
  },
  {
   "cell_type": "code",
   "execution_count": 11,
   "metadata": {},
   "outputs": [
    {
     "name": "stdout",
     "output_type": "stream",
     "text": [
      "The success rate of not switching doors is  0.339 and the success rate for switching doors is 0.6714\n"
     ]
    }
   ],
   "source": [
    "print('The success rate of not switching doors is ',not_switching,'and the success rate for switching doors is',switching)"
   ]
  },
  {
   "cell_type": "code",
   "execution_count": 12,
   "metadata": {},
   "outputs": [
    {
     "data": {
      "text/plain": [
       "Text(0, 0.5, 'Success Rate')"
      ]
     },
     "execution_count": 12,
     "metadata": {},
     "output_type": "execute_result"
    },
    {
     "data": {
      "image/png": "[encoded data removed]",
      "text/plain": [
       "<Figure size 576x576 with 1 Axes>"
      ]
     },
     "metadata": {
      "needs_background": "light"
     },
     "output_type": "display_data"
    }
   ],
   "source": [
    "plt.figure(figsize = (8,8))\n",
    "plt.bar(['Not Switching','Switching'],[not_switching,switching])\n",
    "plt.title('Monty Hall Problem Success Rate')\n",
    "plt.xlabel('Strategy')\n",
    "plt.ylabel('Success Rate')"
   ]
  },
  {
   "cell_type": "markdown",
   "metadata": {},
   "source": [
    "And there it is! We get the expected result which appraoches a 1/3 success rate for not switching and a 2/3 success rate for switching, proving that switching does indeed increase the probability of selecting the correct door. A simulation of the Monty Hall problem for a general number of doors. This demonstration uses three doors, but feel free to try more! Keep in mind that more simulations will be needed when the number of doors increase."
   ]
  }
 ],
 "metadata": {
  "kernelspec": {
   "display_name": "Python 3",
   "language": "python",
   "name": "python3"
  },
  "language_info": {
   "codemirror_mode": {
    "name": "ipython",
    "version": 3
   },
   "file_extension": ".py",
   "mimetype": "text/x-python",
   "name": "python",
   "nbconvert_exporter": "python",
   "pygments_lexer": "ipython3",
   "version": "3.8.8"
  }
 },
 "nbformat": 4,
 "nbformat_minor": 2
}
